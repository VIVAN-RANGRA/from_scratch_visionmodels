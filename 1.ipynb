{
 "cells": [
  {
   "cell_type": "markdown",
   "id": "533c883ac1d025da",
   "metadata": {},
   "source": [
    "**IMPORTING LIBRARIES**"
   ]
  },
  {
   "cell_type": "code",
   "execution_count": 94,
   "id": "initial_id",
   "metadata": {},
   "outputs": [],
   "source": [
    "import tensorflow as tf\n",
    "from tensorflow import keras\n",
    "from tensorflow.keras.losses import binary_crossentropy\n",
    "from tensorflow.keras.optimizers import Adam\n",
    "from tensorflow.keras.preprocessing.image import ImageDataGenerator\n",
    "from tensorflow.keras import layers\n",
    "from tensorflow.keras import regularizers"
   ]
  },
  {
   "cell_type": "markdown",
   "id": "604b2a6f371b1ef7",
   "metadata": {},
   "source": [
    "**CREATING IMAGE PATHS**"
   ]
  },
  {
   "cell_type": "code",
   "execution_count": 95,
   "id": "542dfcadfb4af7dc",
   "metadata": {
    "ExecuteTime": {
     "end_time": "2024-06-17T13:50:12.624510Z",
     "start_time": "2024-06-17T13:50:10.597609Z"
    }
   },
   "outputs": [],
   "source": [
    "import os\n",
    "import zipfile\n",
    "#load data from archive.zip horse or human prediction import zipfile\n",
    "\n",
    "# Define the path to the zip file\n",
    "zip_file_path ='C:\\\\Users\\\\Dell\\\\Desktop\\\\from_scratch\\\\archive.zip'\n",
    "\n",
    "# Define the path to the directory where you want to extract the contents of the zip file\n",
    "extract_dir = 'C:\\\\Users\\\\Dell\\\\Desktop\\\\from_scratch\\\\dataset'\n",
    "\n",
    "# Extract the contents of the zip file\n",
    "with zipfile.ZipFile(zip_file_path, 'r') as zip_ref:\n",
    "    zip_ref.extractall(extract_dir)\n",
    "\n",
    "train_dir = os.path.join(extract_dir, 'horse-or-human', 'train')\n",
    "validation_dir = os.path.join(extract_dir, 'horse-or-human', 'validation')"
   ]
  },
  {
   "cell_type": "markdown",
   "id": "4a90899ea2e7895f",
   "metadata": {},
   "source": [
    "**Preprocessing and Augmenting the Data**"
   ]
  },
  {
   "cell_type": "code",
   "execution_count": 96,
   "id": "238f9c3950780bfb",
   "metadata": {
    "ExecuteTime": {
     "end_time": "2024-06-17T13:50:13.350786Z",
     "start_time": "2024-06-17T13:50:13.346288Z"
    }
   },
   "outputs": [],
   "source": [
    "train_gen = ImageDataGenerator(\n",
    "    rescale=1./255.,\n",
    "    rotation_range=20,\n",
    "    width_shift_range=0.2,\n",
    "    height_shift_range=0.2,\n",
    "    shear_range=0.2,\n",
    "    zoom_range=0.2,\n",
    "    horizontal_flip=True,\n",
    "    fill_mode='nearest'\n",
    ")\n",
    "\n",
    "validation_gen= ImageDataGenerator(rescale=1./255.)"
   ]
  },
  {
   "cell_type": "code",
   "execution_count": 98,
   "id": "3445aa0cfe9e876a",
   "metadata": {
    "ExecuteTime": {
     "end_time": "2024-06-17T13:51:10.941914Z",
     "start_time": "2024-06-17T13:51:10.874993Z"
    }
   },
   "outputs": [
    {
     "name": "stdout",
     "output_type": "stream",
     "text": [
      "Found 1027 images belonging to 2 classes.\n",
      "Found 256 images belonging to 2 classes.\n"
     ]
    }
   ],
   "source": [
    "train_data = train_gen.flow_from_directory(train_dir, target_size=(150,150), batch_size=64, class_mode='binary')\n",
    "validation_data = validation_gen.flow_from_directory(validation_dir, target_size=(150,150), batch_size=32, class_mode='binary')"
   ]
  },
  {
   "cell_type": "code",
   "execution_count": 99,
   "id": "9ba4cbd9ae20aeb2",
   "metadata": {
    "ExecuteTime": {
     "end_time": "2024-06-17T13:51:13.609885Z",
     "start_time": "2024-06-17T13:51:13.136662Z"
    }
   },
   "outputs": [
    {
     "name": "stdout",
     "output_type": "stream",
     "text": [
      "Shape of a sample from train_data: (150, 150, 3)\n"
     ]
    }
   ],
   "source": [
    "# Get the first batch of images and labels from the generator\n",
    "images, labels = next(train_data)\n",
    "\n",
    "# Get the shape of the first image in the batch\n",
    "sample_shape = images[0].shape\n",
    "\n",
    "print(\"Shape of a sample from train_data:\", sample_shape)"
   ]
  },
  {
   "cell_type": "markdown",
   "id": "ba92798167896362",
   "metadata": {},
   "source": [
    "**Custom callback function when validation accuracy reaches 92%**"
   ]
  },
  {
   "cell_type": "code",
   "execution_count": 100,
   "id": "c5d916dddb4fd1bf",
   "metadata": {
    "ExecuteTime": {
     "end_time": "2024-06-17T13:51:15.335533Z",
     "start_time": "2024-06-17T13:51:15.329939Z"
    }
   },
   "outputs": [],
   "source": [
    "class CustomCallback(tf.keras.callbacks.Callback):\n",
    "    def on_epoch_end(self, epoch, logs=None):\n",
    "        if(logs.get('val_accuracy') >= 0.92):\n",
    "            print(\"\\nReached 92% validation accuracy so cancelling training!\")\n",
    "            self.model.stop_training = True"
   ]
  },
  {
   "cell_type": "markdown",
   "id": "ff6b73bf53ad6e75",
   "metadata": {},
   "source": [
    "**AlexNET Model**"
   ]
  },
  {
   "cell_type": "code",
   "execution_count": 103,
   "id": "5a0a85161943effb",
   "metadata": {
    "ExecuteTime": {
     "end_time": "2024-06-17T13:52:08.388157Z",
     "start_time": "2024-06-17T13:52:08.167896Z"
    }
   },
   "outputs": [],
   "source": [
    "model = tf.keras.models.Sequential()\n",
    "\n",
    "# Add the resizing layer\n",
    "model.add(layers.Resizing(224, 224, interpolation=\"bilinear\", input_shape=(150, 150, 3)))\n",
    "\n",
    "# Add the convolutional layers\n",
    "model.add(layers.Conv2D(96, 11, strides=4, padding='same'))\n",
    "model.add(layers.BatchNormalization())\n",
    "model.add(layers.Activation('relu'))\n",
    "model.add(layers.MaxPooling2D(3, strides=2))\n",
    "\n",
    "model.add(layers.Conv2D(256, 5, strides=1, padding='same'))\n",
    "model.add(layers.BatchNormalization())\n",
    "model.add(layers.Activation('relu'))\n",
    "model.add(layers.MaxPooling2D(3, strides=2))\n",
    "\n",
    "model.add(layers.Conv2D(384, 3, strides=1, padding='same'))\n",
    "model.add(layers.BatchNormalization())\n",
    "model.add(layers.Activation('relu'))\n",
    "\n",
    "model.add(layers.Conv2D(384, 3, strides=1, padding='same'))\n",
    "model.add(layers.BatchNormalization())\n",
    "model.add(layers.Activation('relu'))\n",
    "\n",
    "model.add(layers.Conv2D(256, 3, strides=1, padding='same'))\n",
    "model.add(layers.BatchNormalization())\n",
    "model.add(layers.Activation('relu'))\n",
    "\n",
    "# Add the global average pooling layer\n",
    "model.add(layers.GlobalAveragePooling2D())\n",
    "\n",
    "# Add the dense layers\n",
    "model.add(layers.Dense(4096, activation='relu', kernel_regularizer=regularizers.l2(0.01)))\n",
    "model.add(layers.Dropout(0.5))\n",
    "model.add(layers.Dense(4096, activation='relu', kernel_regularizer=regularizers.l2(0.01)))\n",
    "model.add(layers.Dropout(0.5))\n",
    "model.add(layers.Dense(1, activation='sigmoid'))\n",
    "\n",
    "# Compile the model\n",
    "opt = Adam(learning_rate=0.001)\n",
    "model.compile(loss='binary_crossentropy', optimizer=opt, metrics=['accuracy'])\n",
    "\n",
    "custom_callback = CustomCallback()"
   ]
  },
  {
   "cell_type": "code",
   "execution_count": 104,
   "id": "df0699a7055d17d9",
   "metadata": {
    "ExecuteTime": {
     "end_time": "2024-06-17T14:14:04.668482Z",
     "start_time": "2024-06-17T13:52:09.048473Z"
    }
   },
   "outputs": [
    {
     "name": "stdout",
     "output_type": "stream",
     "text": [
      "Epoch 1/100\n",
      "\u001B[1m17/17\u001B[0m \u001B[32m━━━━━━━━━━━━━━━━━━━━\u001B[0m\u001B[37m\u001B[0m \u001B[1m34s\u001B[0m 2s/step - accuracy: 0.5508 - loss: 33.9003 - val_accuracy: 0.5000 - val_loss: 77.6194\n",
      "Epoch 2/100\n",
      "\u001B[1m17/17\u001B[0m \u001B[32m━━━━━━━━━━━━━━━━━━━━\u001B[0m\u001B[37m\u001B[0m \u001B[1m28s\u001B[0m 1s/step - accuracy: 0.7449 - loss: 5.9593 - val_accuracy: 0.5000 - val_loss: 94.5456\n",
      "Epoch 3/100\n",
      "\u001B[1m17/17\u001B[0m \u001B[32m━━━━━━━━━━━━━━━━━━━━\u001B[0m\u001B[37m\u001B[0m \u001B[1m29s\u001B[0m 2s/step - accuracy: 0.7950 - loss: 1.9760 - val_accuracy: 0.5000 - val_loss: 20.4079\n",
      "Epoch 4/100\n",
      "\u001B[1m17/17\u001B[0m \u001B[32m━━━━━━━━━━━━━━━━━━━━\u001B[0m\u001B[37m\u001B[0m \u001B[1m30s\u001B[0m 2s/step - accuracy: 0.8202 - loss: 1.0112 - val_accuracy: 0.5000 - val_loss: 1.5987\n",
      "Epoch 5/100\n",
      "\u001B[1m17/17\u001B[0m \u001B[32m━━━━━━━━━━━━━━━━━━━━\u001B[0m\u001B[37m\u001B[0m \u001B[1m30s\u001B[0m 2s/step - accuracy: 0.8863 - loss: 0.5764 - val_accuracy: 0.5000 - val_loss: 1.2947\n",
      "Epoch 6/100\n",
      "\u001B[1m17/17\u001B[0m \u001B[32m━━━━━━━━━━━━━━━━━━━━\u001B[0m\u001B[37m\u001B[0m \u001B[1m33s\u001B[0m 2s/step - accuracy: 0.8645 - loss: 0.5219 - val_accuracy: 0.5000 - val_loss: 37.8582\n",
      "Epoch 7/100\n",
      "\u001B[1m17/17\u001B[0m \u001B[32m━━━━━━━━━━━━━━━━━━━━\u001B[0m\u001B[37m\u001B[0m \u001B[1m38s\u001B[0m 2s/step - accuracy: 0.8938 - loss: 0.4075 - val_accuracy: 0.5000 - val_loss: 22.0006\n",
      "Epoch 8/100\n",
      "\u001B[1m17/17\u001B[0m \u001B[32m━━━━━━━━━━━━━━━━━━━━\u001B[0m\u001B[37m\u001B[0m \u001B[1m40s\u001B[0m 2s/step - accuracy: 0.9319 - loss: 0.2859 - val_accuracy: 0.5000 - val_loss: 11.7785\n",
      "Epoch 9/100\n",
      "\u001B[1m17/17\u001B[0m \u001B[32m━━━━━━━━━━━━━━━━━━━━\u001B[0m\u001B[37m\u001B[0m \u001B[1m36s\u001B[0m 2s/step - accuracy: 0.9508 - loss: 0.2066 - val_accuracy: 0.5703 - val_loss: 2.4694\n",
      "Epoch 10/100\n",
      "\u001B[1m17/17\u001B[0m \u001B[32m━━━━━━━━━━━━━━━━━━━━\u001B[0m\u001B[37m\u001B[0m \u001B[1m34s\u001B[0m 2s/step - accuracy: 0.9431 - loss: 0.2152 - val_accuracy: 0.5000 - val_loss: 12.8612\n",
      "Epoch 11/100\n",
      "\u001B[1m17/17\u001B[0m \u001B[32m━━━━━━━━━━━━━━━━━━━━\u001B[0m\u001B[37m\u001B[0m \u001B[1m35s\u001B[0m 2s/step - accuracy: 0.9530 - loss: 0.2153 - val_accuracy: 0.5156 - val_loss: 6.5699\n",
      "Epoch 12/100\n",
      "\u001B[1m17/17\u001B[0m \u001B[32m━━━━━━━━━━━━━━━━━━━━\u001B[0m\u001B[37m\u001B[0m \u001B[1m32s\u001B[0m 2s/step - accuracy: 0.9384 - loss: 0.2309 - val_accuracy: 0.5000 - val_loss: 23.8727\n",
      "Epoch 13/100\n",
      "\u001B[1m17/17\u001B[0m \u001B[32m━━━━━━━━━━━━━━━━━━━━\u001B[0m\u001B[37m\u001B[0m \u001B[1m31s\u001B[0m 2s/step - accuracy: 0.9080 - loss: 0.2850 - val_accuracy: 0.5000 - val_loss: 2.4895\n",
      "Epoch 14/100\n",
      "\u001B[1m17/17\u001B[0m \u001B[32m━━━━━━━━━━━━━━━━━━━━\u001B[0m\u001B[37m\u001B[0m \u001B[1m32s\u001B[0m 2s/step - accuracy: 0.9378 - loss: 0.2211 - val_accuracy: 0.5898 - val_loss: 0.7802\n",
      "Epoch 15/100\n",
      "\u001B[1m17/17\u001B[0m \u001B[32m━━━━━━━━━━━━━━━━━━━━\u001B[0m\u001B[37m\u001B[0m \u001B[1m32s\u001B[0m 2s/step - accuracy: 0.9381 - loss: 0.2077 - val_accuracy: 0.5781 - val_loss: 0.7266\n",
      "Epoch 16/100\n",
      "\u001B[1m17/17\u001B[0m \u001B[32m━━━━━━━━━━━━━━━━━━━━\u001B[0m\u001B[37m\u001B[0m \u001B[1m32s\u001B[0m 2s/step - accuracy: 0.9813 - loss: 0.1239 - val_accuracy: 0.5000 - val_loss: 2.9679\n",
      "Epoch 17/100\n",
      "\u001B[1m17/17\u001B[0m \u001B[32m━━━━━━━━━━━━━━━━━━━━\u001B[0m\u001B[37m\u001B[0m \u001B[1m32s\u001B[0m 2s/step - accuracy: 0.9793 - loss: 0.1131 - val_accuracy: 0.8828 - val_loss: 0.3424\n",
      "Epoch 18/100\n",
      "\u001B[1m17/17\u001B[0m \u001B[32m━━━━━━━━━━━━━━━━━━━━\u001B[0m\u001B[37m\u001B[0m \u001B[1m32s\u001B[0m 2s/step - accuracy: 0.9732 - loss: 0.1278 - val_accuracy: 0.5000 - val_loss: 13.1537\n",
      "Epoch 19/100\n",
      "\u001B[1m17/17\u001B[0m \u001B[32m━━━━━━━━━━━━━━━━━━━━\u001B[0m\u001B[37m\u001B[0m \u001B[1m32s\u001B[0m 2s/step - accuracy: 0.8517 - loss: 0.4993 - val_accuracy: 0.5000 - val_loss: 25.5734\n",
      "Epoch 20/100\n",
      "\u001B[1m17/17\u001B[0m \u001B[32m━━━━━━━━━━━━━━━━━━━━\u001B[0m\u001B[37m\u001B[0m \u001B[1m33s\u001B[0m 2s/step - accuracy: 0.8743 - loss: 0.4483 - val_accuracy: 0.5234 - val_loss: 1.4350\n",
      "Epoch 21/100\n",
      "\u001B[1m17/17\u001B[0m \u001B[32m━━━━━━━━━━━━━━━━━━━━\u001B[0m\u001B[37m\u001B[0m \u001B[1m32s\u001B[0m 2s/step - accuracy: 0.8923 - loss: 0.3651 - val_accuracy: 0.5000 - val_loss: 23.8128\n",
      "Epoch 22/100\n",
      "\u001B[1m17/17\u001B[0m \u001B[32m━━━━━━━━━━━━━━━━━━━━\u001B[0m\u001B[37m\u001B[0m \u001B[1m32s\u001B[0m 2s/step - accuracy: 0.9351 - loss: 0.3101 - val_accuracy: 0.5000 - val_loss: 25.4291\n",
      "Epoch 23/100\n",
      "\u001B[1m17/17\u001B[0m \u001B[32m━━━━━━━━━━━━━━━━━━━━\u001B[0m\u001B[37m\u001B[0m \u001B[1m33s\u001B[0m 2s/step - accuracy: 0.9033 - loss: 0.3459 - val_accuracy: 0.5000 - val_loss: 24.3039\n",
      "Epoch 24/100\n",
      "\u001B[1m17/17\u001B[0m \u001B[32m━━━━━━━━━━━━━━━━━━━━\u001B[0m\u001B[37m\u001B[0m \u001B[1m33s\u001B[0m 2s/step - accuracy: 0.9621 - loss: 0.2148 - val_accuracy: 0.5000 - val_loss: 26.3056\n",
      "Epoch 25/100\n",
      "\u001B[1m17/17\u001B[0m \u001B[32m━━━━━━━━━━━━━━━━━━━━\u001B[0m\u001B[37m\u001B[0m \u001B[1m33s\u001B[0m 2s/step - accuracy: 0.8521 - loss: 0.4257 - val_accuracy: 0.5000 - val_loss: 19.0318\n",
      "Epoch 26/100\n",
      "\u001B[1m17/17\u001B[0m \u001B[32m━━━━━━━━━━━━━━━━━━━━\u001B[0m\u001B[37m\u001B[0m \u001B[1m33s\u001B[0m 2s/step - accuracy: 0.9626 - loss: 0.2221 - val_accuracy: 0.5000 - val_loss: 24.0088\n",
      "Epoch 27/100\n",
      "\u001B[1m17/17\u001B[0m \u001B[32m━━━━━━━━━━━━━━━━━━━━\u001B[0m\u001B[37m\u001B[0m \u001B[1m33s\u001B[0m 2s/step - accuracy: 0.9351 - loss: 0.2562 - val_accuracy: 0.5000 - val_loss: 3.4152\n",
      "Epoch 28/100\n",
      "\u001B[1m17/17\u001B[0m \u001B[32m━━━━━━━━━━━━━━━━━━━━\u001B[0m\u001B[37m\u001B[0m \u001B[1m33s\u001B[0m 2s/step - accuracy: 0.9221 - loss: 0.2878 - val_accuracy: 0.5508 - val_loss: 3.6174\n",
      "Epoch 29/100\n",
      "\u001B[1m17/17\u001B[0m \u001B[32m━━━━━━━━━━━━━━━━━━━━\u001B[0m\u001B[37m\u001B[0m \u001B[1m33s\u001B[0m 2s/step - accuracy: 0.9507 - loss: 0.2023 - val_accuracy: 0.6289 - val_loss: 2.2375\n",
      "Epoch 30/100\n",
      "\u001B[1m17/17\u001B[0m \u001B[32m━━━━━━━━━━━━━━━━━━━━\u001B[0m\u001B[37m\u001B[0m \u001B[1m33s\u001B[0m 2s/step - accuracy: 0.9698 - loss: 0.1743 - val_accuracy: 0.5781 - val_loss: 1.6041\n",
      "Epoch 31/100\n",
      "\u001B[1m17/17\u001B[0m \u001B[32m━━━━━━━━━━━━━━━━━━━━\u001B[0m\u001B[37m\u001B[0m \u001B[1m33s\u001B[0m 2s/step - accuracy: 0.9613 - loss: 0.2024 - val_accuracy: 0.7227 - val_loss: 1.1962\n",
      "Epoch 32/100\n",
      "\u001B[1m17/17\u001B[0m \u001B[32m━━━━━━━━━━━━━━━━━━━━\u001B[0m\u001B[37m\u001B[0m \u001B[1m33s\u001B[0m 2s/step - accuracy: 0.9357 - loss: 0.2543 - val_accuracy: 0.5000 - val_loss: 16.1186\n",
      "Epoch 33/100\n",
      "\u001B[1m17/17\u001B[0m \u001B[32m━━━━━━━━━━━━━━━━━━━━\u001B[0m\u001B[37m\u001B[0m \u001B[1m33s\u001B[0m 2s/step - accuracy: 0.9293 - loss: 0.2491 - val_accuracy: 0.5000 - val_loss: 8.5701\n",
      "Epoch 34/100\n",
      "\u001B[1m17/17\u001B[0m \u001B[32m━━━━━━━━━━━━━━━━━━━━\u001B[0m\u001B[37m\u001B[0m \u001B[1m33s\u001B[0m 2s/step - accuracy: 0.9589 - loss: 0.1733 - val_accuracy: 0.5000 - val_loss: 9.7812\n",
      "Epoch 35/100\n",
      "\u001B[1m17/17\u001B[0m \u001B[32m━━━━━━━━━━━━━━━━━━━━\u001B[0m\u001B[37m\u001B[0m \u001B[1m33s\u001B[0m 2s/step - accuracy: 0.9675 - loss: 0.1605 - val_accuracy: 0.5000 - val_loss: 5.4869\n",
      "Epoch 36/100\n",
      "\u001B[1m17/17\u001B[0m \u001B[32m━━━━━━━━━━━━━━━━━━━━\u001B[0m\u001B[37m\u001B[0m \u001B[1m34s\u001B[0m 2s/step - accuracy: 0.9489 - loss: 0.1971 - val_accuracy: 0.5000 - val_loss: 3.7008\n",
      "Epoch 37/100\n",
      "\u001B[1m17/17\u001B[0m \u001B[32m━━━━━━━━━━━━━━━━━━━━\u001B[0m\u001B[37m\u001B[0m \u001B[1m34s\u001B[0m 2s/step - accuracy: 0.9307 - loss: 0.2345 - val_accuracy: 0.5000 - val_loss: 13.1385\n",
      "Epoch 38/100\n",
      "\u001B[1m17/17\u001B[0m \u001B[32m━━━━━━━━━━━━━━━━━━━━\u001B[0m\u001B[37m\u001B[0m \u001B[1m33s\u001B[0m 2s/step - accuracy: 0.9576 - loss: 0.1836 - val_accuracy: 0.5000 - val_loss: 8.0934\n",
      "Epoch 39/100\n",
      "\u001B[1m17/17\u001B[0m \u001B[32m━━━━━━━━━━━━━━━━━━━━\u001B[0m\u001B[37m\u001B[0m \u001B[1m33s\u001B[0m 2s/step - accuracy: 0.9786 - loss: 0.1333 - val_accuracy: 0.5000 - val_loss: 10.2936\n",
      "Epoch 40/100\n",
      "\u001B[1m17/17\u001B[0m \u001B[32m━━━━━━━━━━━━━━━━━━━━\u001B[0m\u001B[37m\u001B[0m \u001B[1m0s\u001B[0m 2s/step - accuracy: 0.9727 - loss: 0.1293\n",
      "Reached 92% validation accuracy so cancelling training!\n",
      "\u001B[1m17/17\u001B[0m \u001B[32m━━━━━━━━━━━━━━━━━━━━\u001B[0m\u001B[37m\u001B[0m \u001B[1m33s\u001B[0m 2s/step - accuracy: 0.9728 - loss: 0.1291 - val_accuracy: 0.9297 - val_loss: 0.2109\n"
     ]
    }
   ],
   "source": [
    "history = model.fit(train_data, validation_data=validation_data, epochs=100, callbacks=[custom_callback])\n"
   ]
  },
  {
   "cell_type": "code",
   "execution_count": 105,
   "id": "3357f8e960084a25",
   "metadata": {
    "ExecuteTime": {
     "end_time": "2024-06-17T15:14:26.017707Z",
     "start_time": "2024-06-17T15:14:24.226848Z"
    }
   },
   "outputs": [
    {
     "name": "stdout",
     "output_type": "stream",
     "text": [
      "\u001B[1m8/8\u001B[0m \u001B[32m━━━━━━━━━━━━━━━━━━━━\u001B[0m\u001B[37m\u001B[0m \u001B[1m2s\u001B[0m 183ms/step - accuracy: 0.9300 - loss: 0.2195\n",
      "Test loss: 0.21088437736034393\n",
      "Test accuracy: 0.9296875\n"
     ]
    }
   ],
   "source": [
    "# Evaluate the model on the validation data\n",
    "score = model.evaluate(validation_data)\n",
    "print('Test loss:', score[0])\n",
    "print('Test accuracy:', score[1])"
   ]
  },
  {
   "cell_type": "markdown",
   "id": "b752331159a25b23",
   "metadata": {},
   "source": [
    "**Analyzing Training and Validation loss per epoch**"
   ]
  },
  {
   "cell_type": "code",
   "execution_count": 106,
   "id": "12f4770827e94dbf",
   "metadata": {
    "ExecuteTime": {
     "end_time": "2024-06-17T15:14:36.550363Z",
     "start_time": "2024-06-17T15:14:35.693383Z"
    }
   },
   "outputs": [
    {
     "data": {
      "image/png": "[encoded data removed]",
      "text/plain": [
       "<Figure size 1200x400 with 2 Axes>"
      ]
     },
     "metadata": {},
     "output_type": "display_data"
    }
   ],
   "source": [
    "import matplotlib.pyplot as plt\n",
    "\n",
    "# Plot training & validation accuracy values\n",
    "plt.figure(figsize=(12, 4))\n",
    "plt.subplot(1, 2, 1)\n",
    "plt.plot(history.history['accuracy'])\n",
    "plt.plot(history.history['val_accuracy'])\n",
    "plt.title('Model accuracy')\n",
    "plt.ylabel('Accuracy')\n",
    "plt.xlabel('Epoch')\n",
    "plt.legend(['Train', 'Validation'], loc='upper left')\n",
    "\n",
    "# Plot training & validation loss values\n",
    "plt.subplot(1, 2, 2)\n",
    "plt.plot(history.history['loss'])\n",
    "plt.plot(history.history['val_loss'])\n",
    "plt.title('Model loss')\n",
    "plt.ylabel('Loss')\n",
    "plt.xlabel('Epoch')\n",
    "plt.legend(['Train', 'Validation'], loc='upper left')\n",
    "plt.show()"
   ]
  }
 ],
 "metadata": {
  "kernelspec": {
   "display_name": "Python 3",
   "language": "python",
   "name": "python3"
  },
  "language_info": {
   "codemirror_mode": {
    "name": "ipython",
    "version": 2
   },
   "file_extension": ".py",
   "mimetype": "text/x-python",
   "name": "python",
   "nbconvert_exporter": "python",
   "pygments_lexer": "ipython2",
   "version": "3.12.4"
  }
 },
 "nbformat": 4,
 "nbformat_minor": 5
}
